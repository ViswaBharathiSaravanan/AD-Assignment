{
 "cells": [
  {
   "cell_type": "code",
   "execution_count": 1,
   "id": "9076de53",
   "metadata": {},
   "outputs": [
    {
     "data": {
      "text/plain": [
       "(-4.635812211643919, 3.555386369082602e-06)"
      ]
     },
     "execution_count": 1,
     "metadata": {},
     "output_type": "execute_result"
    }
   ],
   "source": [
    "#AD REVERSE ENGINEERING\n",
    "#Brand - Amazon\n",
    "\n",
    "#Case 1 : Location\n",
    "import pandas as pd\n",
    "Purchase=pd.read_excel(\"E:/VB/Amazon AD Case 1.xlsx\")\n",
    "from statsmodels.stats.proportion import proportions_ztest\n",
    "import numpy as np\n",
    "count=np.array([1564,3745])\n",
    "nobs=np.array([8101,8699])\n",
    "proportions_ztest(count, nobs)\n",
    "\n",
    "#Case 2 : Number of Brands\n",
    "from scipy import stats\n",
    "B=pd.read_excel(\"E:/VB/Amazon AD Case 2.xlsx\")\n",
    "Brand=pd.crosstab(B.SHOP_A,B.ONLINE)\n",
    "stats.chi2_contingency(Brand)\n",
    "\n",
    "#Case 3 : Language\n",
    "L=pd.read_excel(\"E:/VB/Amazon AD Case 3.xlsx\")\n",
    "c=np.array([8734,6547])\n",
    "n=np.array([18118,12868])\n",
    "proportions_ztest(c,n)"
   ]
  },
  {
   "cell_type": "code",
   "execution_count": null,
   "id": "51c798c6",
   "metadata": {},
   "outputs": [],
   "source": []
  }
 ],
 "metadata": {
  "kernelspec": {
   "display_name": "Python 3 (ipykernel)",
   "language": "python",
   "name": "python3"
  },
  "language_info": {
   "codemirror_mode": {
    "name": "ipython",
    "version": 3
   },
   "file_extension": ".py",
   "mimetype": "text/x-python",
   "name": "python",
   "nbconvert_exporter": "python",
   "pygments_lexer": "ipython3",
   "version": "3.9.7"
  }
 },
 "nbformat": 4,
 "nbformat_minor": 5
}
